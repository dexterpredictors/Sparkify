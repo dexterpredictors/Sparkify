{
 "cells": [
  {
   "cell_type": "markdown",
   "metadata": {},
   "source": [
    "# Sparkify Project Workspace\n",
    "This workspace contains a tiny subset (128MB) of the full dataset available (12GB). Feel free to use this workspace to build your project, or to explore a smaller subset with Spark before deploying your cluster on the cloud. Instructions for setting up your Spark cluster is included in the last lesson of the Extracurricular Spark Course content.\n",
    "\n",
    "You can follow the steps below to guide your data analysis and model building portion of this project."
   ]
  },
  {
   "cell_type": "code",
   "execution_count": 2,
   "metadata": {},
   "outputs": [
    {
     "data": {
      "text/html": [
       "<style>.container { width:70% !important; }</style>"
      ],
      "text/plain": [
       "<IPython.core.display.HTML object>"
      ]
     },
     "metadata": {},
     "output_type": "display_data"
    }
   ],
   "source": [
    "# import libraries\n",
    "import pyspark\n",
    "from pyspark.sql import functions as SF\n",
    "import pyspark.sql.types as pst\n",
    "from pyspark.sql import Window\n",
    "from pyspark.sql.types import ArrayType, BooleanType, LongType, FloatType, IntegerType, DoubleType, StringType, DateType\n",
    "from pyspark.ml.feature import RegexTokenizer, VectorAssembler\n",
    "from pyspark.ml.classification import RandomForestClassifier, GBTClassifier\n",
    "from pyspark.ml.feature import VectorAssembler\n",
    "from pyspark.ml.feature import MinMaxScaler\n",
    "from pyspark.ml.feature import StringIndexer\n",
    "from pyspark.mllib.evaluation import MulticlassMetrics\n",
    "from pyspark.ml.evaluation import MulticlassClassificationEvaluator\n",
    "from pyspark.ml import Pipeline\n",
    "from pyspark.ml.tuning import CrossValidator, ParamGridBuilder\n",
    "\n",
    "import os\n",
    "import pandas\n",
    "import matplotlib.pyplot as plt\n",
    "import numpy as np\n",
    "import operator\n",
    "from datetime import datetime as dt\n",
    "import datetime\n",
    "from sklearn.feature_extraction import DictVectorizer\n",
    "from collections import Counter, OrderedDict\n",
    "\n",
    "pandas.options.display.max_columns = None\n",
    "pandas.options.display.max_rows = None\n",
    "\n",
    "from IPython.core.display import display, HTML\n",
    "display(HTML(\"<style>.container { width:70% !important; }</style>\"))"
   ]
  },
  {
   "cell_type": "markdown",
   "metadata": {},
   "source": [
    "I guess in the local mode there is no need to set some of the configs, however I am using the same config as if we were running spark in yarn mode."
   ]
  },
  {
   "cell_type": "code",
   "execution_count": 3,
   "metadata": {},
   "outputs": [
    {
     "name": "stdout",
     "output_type": "stream",
     "text": [
      "2.4.3 local[*]\n"
     ]
    }
   ],
   "source": [
    "# create a Spark session\n",
    "spark = pyspark.sql.SparkSession.builder.appName(\"sparkify_ms\").enableHiveSupport().\\\n",
    "config(\"spark.executor.instances\",\"5\").config(\"spark.executor.memory\",\"10g\").\\\n",
    "config(\"spark.executor.cores\",\"7\").config(\"spark.driver.cores\",\"7\").\\\n",
    "config(\"spark.driver.memory\",\"20g\").config(\"spark.driver.maxResultSize\",\"18g\").getOrCreate()\n",
    "\n",
    "sc = spark.sparkContext\n",
    "\n",
    "print(spark.version, sc.master)"
   ]
  },
  {
   "cell_type": "code",
   "execution_count": 4,
   "metadata": {},
   "outputs": [],
   "source": [
    "# sc.stop()"
   ]
  },
  {
   "cell_type": "markdown",
   "metadata": {},
   "source": [
    "# Load and Clean Dataset\n",
    "In this workspace, the mini-dataset file is `mini_sparkify_event_data.json`. Load and clean the dataset, checking for invalid or missing data - for example, records without userids or sessionids. "
   ]
  },
  {
   "cell_type": "code",
   "execution_count": 5,
   "metadata": {},
   "outputs": [
    {
     "data": {
      "text/plain": [
       "pyspark.sql.dataframe.DataFrame"
      ]
     },
     "execution_count": 5,
     "metadata": {},
     "output_type": "execute_result"
    }
   ],
   "source": [
    "# Load json to spark dataframe\n",
    "df = spark.read.json('mini_sparkify_event_data.json')\n",
    "type(df)"
   ]
  },
  {
   "cell_type": "code",
   "execution_count": 5,
   "metadata": {},
   "outputs": [
    {
     "name": "stdout",
     "output_type": "stream",
     "text": [
      "root\n",
      " |-- artist: string (nullable = true)\n",
      " |-- auth: string (nullable = true)\n",
      " |-- firstName: string (nullable = true)\n",
      " |-- gender: string (nullable = true)\n",
      " |-- itemInSession: long (nullable = true)\n",
      " |-- lastName: string (nullable = true)\n",
      " |-- length: double (nullable = true)\n",
      " |-- level: string (nullable = true)\n",
      " |-- location: string (nullable = true)\n",
      " |-- method: string (nullable = true)\n",
      " |-- page: string (nullable = true)\n",
      " |-- registration: long (nullable = true)\n",
      " |-- sessionId: long (nullable = true)\n",
      " |-- song: string (nullable = true)\n",
      " |-- status: long (nullable = true)\n",
      " |-- ts: long (nullable = true)\n",
      " |-- userAgent: string (nullable = true)\n",
      " |-- userId: string (nullable = true)\n",
      "\n"
     ]
    }
   ],
   "source": [
    "# Check data-types\n",
    "df.printSchema()"
   ]
  },
  {
   "cell_type": "code",
   "execution_count": 6,
   "metadata": {
    "scrolled": true
   },
   "outputs": [
    {
     "data": {
      "text/html": [
       "<div>\n",
       "<style scoped>\n",
       "    .dataframe tbody tr th:only-of-type {\n",
       "        vertical-align: middle;\n",
       "    }\n",
       "\n",
       "    .dataframe tbody tr th {\n",
       "        vertical-align: top;\n",
       "    }\n",
       "\n",
       "    .dataframe thead th {\n",
       "        text-align: right;\n",
       "    }\n",
       "</style>\n",
       "<table border=\"1\" class=\"dataframe\">\n",
       "  <thead>\n",
       "    <tr style=\"text-align: right;\">\n",
       "      <th></th>\n",
       "      <th>artist</th>\n",
       "      <th>auth</th>\n",
       "      <th>firstName</th>\n",
       "      <th>gender</th>\n",
       "      <th>itemInSession</th>\n",
       "      <th>lastName</th>\n",
       "      <th>length</th>\n",
       "      <th>level</th>\n",
       "      <th>location</th>\n",
       "      <th>method</th>\n",
       "      <th>page</th>\n",
       "      <th>registration</th>\n",
       "      <th>sessionId</th>\n",
       "      <th>song</th>\n",
       "      <th>status</th>\n",
       "      <th>ts</th>\n",
       "      <th>userAgent</th>\n",
       "      <th>userId</th>\n",
       "    </tr>\n",
       "  </thead>\n",
       "  <tbody>\n",
       "    <tr>\n",
       "      <th>0</th>\n",
       "      <td>Martha Tilston</td>\n",
       "      <td>Logged In</td>\n",
       "      <td>Colin</td>\n",
       "      <td>M</td>\n",
       "      <td>50</td>\n",
       "      <td>Freeman</td>\n",
       "      <td>277.89016</td>\n",
       "      <td>paid</td>\n",
       "      <td>Bakersfield, CA</td>\n",
       "      <td>PUT</td>\n",
       "      <td>NextSong</td>\n",
       "      <td>1.538173e+12</td>\n",
       "      <td>29</td>\n",
       "      <td>Rockpools</td>\n",
       "      <td>200</td>\n",
       "      <td>1538352117000</td>\n",
       "      <td>Mozilla/5.0 (Windows NT 6.1; WOW64; rv:31.0) G...</td>\n",
       "      <td>30</td>\n",
       "    </tr>\n",
       "    <tr>\n",
       "      <th>1</th>\n",
       "      <td>Five Iron Frenzy</td>\n",
       "      <td>Logged In</td>\n",
       "      <td>Micah</td>\n",
       "      <td>M</td>\n",
       "      <td>79</td>\n",
       "      <td>Long</td>\n",
       "      <td>236.09424</td>\n",
       "      <td>free</td>\n",
       "      <td>Boston-Cambridge-Newton, MA-NH</td>\n",
       "      <td>PUT</td>\n",
       "      <td>NextSong</td>\n",
       "      <td>1.538332e+12</td>\n",
       "      <td>8</td>\n",
       "      <td>Canada</td>\n",
       "      <td>200</td>\n",
       "      <td>1538352180000</td>\n",
       "      <td>\"Mozilla/5.0 (Windows NT 6.1; WOW64) AppleWebK...</td>\n",
       "      <td>9</td>\n",
       "    </tr>\n",
       "    <tr>\n",
       "      <th>2</th>\n",
       "      <td>Adam Lambert</td>\n",
       "      <td>Logged In</td>\n",
       "      <td>Colin</td>\n",
       "      <td>M</td>\n",
       "      <td>51</td>\n",
       "      <td>Freeman</td>\n",
       "      <td>282.82730</td>\n",
       "      <td>paid</td>\n",
       "      <td>Bakersfield, CA</td>\n",
       "      <td>PUT</td>\n",
       "      <td>NextSong</td>\n",
       "      <td>1.538173e+12</td>\n",
       "      <td>29</td>\n",
       "      <td>Time For Miracles</td>\n",
       "      <td>200</td>\n",
       "      <td>1538352394000</td>\n",
       "      <td>Mozilla/5.0 (Windows NT 6.1; WOW64; rv:31.0) G...</td>\n",
       "      <td>30</td>\n",
       "    </tr>\n",
       "    <tr>\n",
       "      <th>3</th>\n",
       "      <td>Enigma</td>\n",
       "      <td>Logged In</td>\n",
       "      <td>Micah</td>\n",
       "      <td>M</td>\n",
       "      <td>80</td>\n",
       "      <td>Long</td>\n",
       "      <td>262.71302</td>\n",
       "      <td>free</td>\n",
       "      <td>Boston-Cambridge-Newton, MA-NH</td>\n",
       "      <td>PUT</td>\n",
       "      <td>NextSong</td>\n",
       "      <td>1.538332e+12</td>\n",
       "      <td>8</td>\n",
       "      <td>Knocking On Forbidden Doors</td>\n",
       "      <td>200</td>\n",
       "      <td>1538352416000</td>\n",
       "      <td>\"Mozilla/5.0 (Windows NT 6.1; WOW64) AppleWebK...</td>\n",
       "      <td>9</td>\n",
       "    </tr>\n",
       "    <tr>\n",
       "      <th>4</th>\n",
       "      <td>Daft Punk</td>\n",
       "      <td>Logged In</td>\n",
       "      <td>Colin</td>\n",
       "      <td>M</td>\n",
       "      <td>52</td>\n",
       "      <td>Freeman</td>\n",
       "      <td>223.60771</td>\n",
       "      <td>paid</td>\n",
       "      <td>Bakersfield, CA</td>\n",
       "      <td>PUT</td>\n",
       "      <td>NextSong</td>\n",
       "      <td>1.538173e+12</td>\n",
       "      <td>29</td>\n",
       "      <td>Harder Better Faster Stronger</td>\n",
       "      <td>200</td>\n",
       "      <td>1538352676000</td>\n",
       "      <td>Mozilla/5.0 (Windows NT 6.1; WOW64; rv:31.0) G...</td>\n",
       "      <td>30</td>\n",
       "    </tr>\n",
       "  </tbody>\n",
       "</table>\n",
       "</div>"
      ],
      "text/plain": [
       "             artist       auth firstName gender  itemInSession lastName  \\\n",
       "0    Martha Tilston  Logged In     Colin      M             50  Freeman   \n",
       "1  Five Iron Frenzy  Logged In     Micah      M             79     Long   \n",
       "2      Adam Lambert  Logged In     Colin      M             51  Freeman   \n",
       "3            Enigma  Logged In     Micah      M             80     Long   \n",
       "4         Daft Punk  Logged In     Colin      M             52  Freeman   \n",
       "\n",
       "      length level                        location method      page  \\\n",
       "0  277.89016  paid                 Bakersfield, CA    PUT  NextSong   \n",
       "1  236.09424  free  Boston-Cambridge-Newton, MA-NH    PUT  NextSong   \n",
       "2  282.82730  paid                 Bakersfield, CA    PUT  NextSong   \n",
       "3  262.71302  free  Boston-Cambridge-Newton, MA-NH    PUT  NextSong   \n",
       "4  223.60771  paid                 Bakersfield, CA    PUT  NextSong   \n",
       "\n",
       "   registration  sessionId                           song  status  \\\n",
       "0  1.538173e+12         29                      Rockpools     200   \n",
       "1  1.538332e+12          8                         Canada     200   \n",
       "2  1.538173e+12         29              Time For Miracles     200   \n",
       "3  1.538332e+12          8    Knocking On Forbidden Doors     200   \n",
       "4  1.538173e+12         29  Harder Better Faster Stronger     200   \n",
       "\n",
       "              ts                                          userAgent userId  \n",
       "0  1538352117000  Mozilla/5.0 (Windows NT 6.1; WOW64; rv:31.0) G...     30  \n",
       "1  1538352180000  \"Mozilla/5.0 (Windows NT 6.1; WOW64) AppleWebK...      9  \n",
       "2  1538352394000  Mozilla/5.0 (Windows NT 6.1; WOW64; rv:31.0) G...     30  \n",
       "3  1538352416000  \"Mozilla/5.0 (Windows NT 6.1; WOW64) AppleWebK...      9  \n",
       "4  1538352676000  Mozilla/5.0 (Windows NT 6.1; WOW64; rv:31.0) G...     30  "
      ]
     },
     "execution_count": 6,
     "metadata": {},
     "output_type": "execute_result"
    }
   ],
   "source": [
    "# Data Preview \n",
    "pdf = df.limit(100).toPandas()\n",
    "pdf.head()"
   ]
  },
  {
   "cell_type": "code",
   "execution_count": 6,
   "metadata": {},
   "outputs": [],
   "source": [
    "# Prepare a filturing function\n",
    "def filter_values(data, spark_functions, col_apply_on, values, isin=True):\n",
    "    \"\"\"\n",
    "    :param data :type Spark datafram\n",
    "    :param spark_functions: type spark_functions:\n",
    "    :param col_apply_on :type str - column name for filtering implementation\n",
    "    :param values :type list - of values within col_apply_on\n",
    "    :param isin :type bool - True: implement isin(select values), False: implement ~isin(filter values)\n",
    "    :return: spark dataframe\n",
    "    \"\"\"\n",
    "    if isin:\n",
    "        return data.where(spark_functions.col(col_apply_on).isin(values))\n",
    "    else:\n",
    "        return data.where(~spark_functions.col(col_apply_on).isin(values))"
   ]
  },
  {
   "cell_type": "code",
   "execution_count": 7,
   "metadata": {},
   "outputs": [
    {
     "name": "stdout",
     "output_type": "stream",
     "text": [
      "286500\n",
      "286500\n",
      "278154\n"
     ]
    }
   ],
   "source": [
    "# Check volume & missing id values\n",
    "print(df.count())\n",
    "df = df.fillna('', subset=['sessionId', 'userId'])\n",
    "print(filter_values(df, SF, 'sessionId', '', isin=False).count())\n",
    "print(filter_values(df, SF, 'userId', '', isin=False).count())"
   ]
  },
  {
   "cell_type": "code",
   "execution_count": 8,
   "metadata": {},
   "outputs": [],
   "source": [
    "# CLEANING STEPS: drop unwanted columns, drop rows where userId value is missing ...\n",
    "df = df.drop(*['artist','song','id_copy','firstName', 'lastName'])             \n",
    "df = df.dropna(how = 'any', subset = ['userId'])\n",
    "df = filter_values(df, SF, 'userId', '', isin=False)\n",
    "df = df.withColumn('userId', df['userId'].cast(IntegerType()))"
   ]
  },
  {
   "cell_type": "markdown",
   "metadata": {},
   "source": [
    "# Exploratory Data Analysis\n",
    "When you're working with the full dataset, perform EDA by loading a small subset of the data and doing basic manipulations within Spark. In this workspace, you are already provided a small subset of data you can explore."
   ]
  },
  {
   "cell_type": "markdown",
   "metadata": {},
   "source": [
    "### Define Churn\n",
    "\n",
    "Once you've done some preliminary analysis, create a column `Churn` to use as the label for your model. I suggest using the `Cancellation Confirmation` events to define your churn, which happen for both paid and free users. As a bonus task, you can also look into the `Downgrade` events."
   ]
  },
  {
   "cell_type": "code",
   "execution_count": 9,
   "metadata": {},
   "outputs": [
    {
     "name": "stdout",
     "output_type": "stream",
     "text": [
      "+-----+------+\n",
      "|churn| count|\n",
      "+-----+------+\n",
      "|    0|278102|\n",
      "|    1|    52|\n",
      "+-----+------+\n",
      "\n"
     ]
    }
   ],
   "source": [
    "# Create churn column\n",
    "df = df.withColumn('churn', SF.when(SF.col('page') == 'Cancellation Confirmation', 1).otherwise(0))\n",
    "df.groupBy(\"churn\").count().orderBy('count').sort(SF.desc(\"count\")).show()"
   ]
  },
  {
   "cell_type": "code",
   "execution_count": 10,
   "metadata": {},
   "outputs": [
    {
     "name": "stdout",
     "output_type": "stream",
     "text": [
      "+-----+------+\n",
      "|churn| count|\n",
      "+-----+------+\n",
      "|    0|233290|\n",
      "|    1| 44864|\n",
      "+-----+------+\n",
      "\n"
     ]
    }
   ],
   "source": [
    "# Spread the churn value to all rows of \"churn\" users\n",
    "window = Window.partitionBy(\"userId\").rangeBetween(Window.unboundedPreceding, Window.unboundedFollowing)\n",
    "df = df.withColumn(\"churn\", SF.sum(\"churn\").over(window))\n",
    "\n",
    "df.groupBy(\"churn\").count().orderBy('count').sort(SF.desc(\"count\")).show()"
   ]
  },
  {
   "cell_type": "markdown",
   "metadata": {},
   "source": [
    "### Explore Data\n",
    "Once you've defined churn, perform some exploratory data analysis to observe the behavior for users who stayed vs users who churned. You can start by exploring aggregates on these two groups of users, observing how much of a specific action they experienced per a certain time unit or number of songs played."
   ]
  },
  {
   "cell_type": "markdown",
   "metadata": {},
   "source": [
    "#### Preview values in some of the columns: \n",
    "Obviously one of the most interesting columns is the 'page' - will be a source of many usefull features."
   ]
  },
  {
   "cell_type": "code",
   "execution_count": 12,
   "metadata": {},
   "outputs": [
    {
     "name": "stdout",
     "output_type": "stream",
     "text": [
      "225 \n",
      "\n",
      "+---------+------+\n",
      "|     auth| count|\n",
      "+---------+------+\n",
      "|Logged In|278102|\n",
      "|Cancelled|    52|\n",
      "+---------+------+\n",
      "\n",
      "+------+------+\n",
      "|method| count|\n",
      "+------+------+\n",
      "|   PUT|257818|\n",
      "|   GET| 20336|\n",
      "+------+------+\n",
      "\n",
      "+-----+------+\n",
      "|level| count|\n",
      "+-----+------+\n",
      "| paid|222433|\n",
      "| free| 55721|\n",
      "+-----+------+\n",
      "\n",
      "+--------------------+------+\n",
      "|                page| count|\n",
      "+--------------------+------+\n",
      "|            NextSong|228108|\n",
      "|           Thumbs Up| 12551|\n",
      "|                Home| 10082|\n",
      "|     Add to Playlist|  6526|\n",
      "|          Add Friend|  4277|\n",
      "|         Roll Advert|  3933|\n",
      "|              Logout|  3226|\n",
      "|         Thumbs Down|  2546|\n",
      "|           Downgrade|  2055|\n",
      "|            Settings|  1514|\n",
      "|                Help|  1454|\n",
      "|             Upgrade|   499|\n",
      "|               About|   495|\n",
      "|       Save Settings|   310|\n",
      "|               Error|   252|\n",
      "|      Submit Upgrade|   159|\n",
      "|    Submit Downgrade|    63|\n",
      "|              Cancel|    52|\n",
      "|Cancellation Conf...|    52|\n",
      "+--------------------+------+\n",
      "\n"
     ]
    }
   ],
   "source": [
    "print(df.groupBy(\"userId\").count().count(), '\\n')\n",
    "df.groupBy(\"auth\").count().orderBy('count').sort(SF.desc(\"count\")).show(10)\n",
    "df.groupBy(\"method\").count().orderBy('count').sort(SF.desc(\"count\")).show(10)\n",
    "df.groupBy(\"level\").count().orderBy('count').sort(SF.desc(\"count\")).show(10)\n",
    "df.groupBy(\"page\").count().orderBy('count').sort(SF.desc(\"count\")).show(23)"
   ]
  },
  {
   "cell_type": "markdown",
   "metadata": {},
   "source": [
    "#### With a help of regexTokenizer extract userAgent words - these details can be transformed into a valuable features\n"
   ]
  },
  {
   "cell_type": "code",
   "execution_count": 11,
   "metadata": {},
   "outputs": [
    {
     "name": "stdout",
     "output_type": "stream",
     "text": [
      "56\n",
      "+-------------------------------------------------------------------------------------------------------------------------------+-----+\n",
      "|userAgent_words                                                                                                                |count|\n",
      "+-------------------------------------------------------------------------------------------------------------------------------+-----+\n",
      "|[mozilla50, windows, nt, 61, wow64, applewebkit53736, khtml, like, gecko, chrome3601985143, safari53736]                       |22751|\n",
      "|[mozilla50, macintosh, intel, mac, os, x, 1094, applewebkit537774, khtml, like, gecko, version705, safari537774]               |19611|\n",
      "|[mozilla50, macintosh, intel, mac, os, x, 1094, applewebkit53736, khtml, like, gecko, chrome3601985125, safari53736]           |18448|\n",
      "|[mozilla50, macintosh, intel, mac, os, x, 1094, applewebkit53736, khtml, like, gecko, chrome3601985143, safari53736]           |17348|\n",
      "|[mozilla50, windows, nt, 61, wow64, rv310, gecko20100101, firefox310]                                                          |16700|\n",
      "|[mozilla50, windows, nt, 61, wow64, applewebkit53736, khtml, like, gecko, chrome3601985125, safari53736]                       |15395|\n",
      "|[mozilla50, windows, nt, 61, wow64, applewebkit53736, khtml, like, gecko, chrome3702062103, safari53736]                       |14598|\n",
      "|[mozilla50, macintosh, intel, mac, os, x, 109, rv310, gecko20100101, firefox310]                                               |10300|\n",
      "|[mozilla50, ipad, cpu, os, 712, like, mac, os, x, applewebkit537512, khtml, like, gecko, version70, mobile11d257, safari953753]|8912 |\n",
      "|[mozilla50, compatible, msie, 90, windows, nt, 61, wow64, trident50]                                                           |8624 |\n",
      "+-------------------------------------------------------------------------------------------------------------------------------+-----+\n",
      "only showing top 10 rows\n",
      "\n"
     ]
    }
   ],
   "source": [
    "df = df.withColumn('userAgent_reg', SF.lower(SF.regexp_replace('userAgent', \"[^0-9a-zA-Z\\\\s]\", \"\")))\n",
    "regexTokenizer = RegexTokenizer(inputCol=\"userAgent_reg\", outputCol=\"userAgent_words\")\n",
    "df = regexTokenizer.transform(df)\n",
    "print(df.groupBy(\"userAgent_words\").count().count())\n",
    "df.groupBy(\"userAgent_words\").count().orderBy('count').sort(SF.desc(\"count\")).show(10, False)"
   ]
  },
  {
   "cell_type": "markdown",
   "metadata": {},
   "source": [
    "##### Words Correlation heatmap\n",
    "In the heatmap below - created out of the word-matrix (from userAgent word) - we can see that some of the words are perfectly correlated with other ones (yellow dots). We'll need to remove some words accordingly  - as we do not want to have perfectly correlated features in the training df."
   ]
  },
  {
   "cell_type": "code",
   "execution_count": 22,
   "metadata": {},
   "outputs": [
    {
     "name": "stdout",
     "output_type": "stream",
     "text": [
      "(56, 90)\n"
     ]
    },
    {
     "data": {
      "image/png": "[encoded data removed]",
      "text/plain": [
       "<matplotlib.figure.Figure at 0x7f00d6713438>"
      ]
     },
     "metadata": {
      "needs_background": "light"
     },
     "output_type": "display_data"
    }
   ],
   "source": [
    "words_list = df.select('userAgent_words').distinct().rdd.map(lambda r: r[0]).collect()\n",
    "\n",
    "v = DictVectorizer()\n",
    "X = v.fit_transform(Counter(f) for f in (_l for _l in words_list))\n",
    "print(X.shape)\n",
    "words_df = pandas.DataFrame(X.toarray())\n",
    "words_df.columns = words_df.columns.map(dict([(val, key) for key, val in v.vocabulary_.items()]))\n",
    "f = plt.figure(figsize=(8, 6))\n",
    "plt.matshow(words_df.corr(), fignum=f.number)\n",
    "plt.show()"
   ]
  },
  {
   "cell_type": "markdown",
   "metadata": {},
   "source": [
    "#### In the next steps let's create some date columns which will help us with research and/or with new features: \n",
    "- \"temp_\" & \"hlp_\" prefixes are used for temporary or helping columns\n",
    "- \"fe_\" prefix will be used strictly for features to train the model on."
   ]
  },
  {
   "cell_type": "code",
   "execution_count": 13,
   "metadata": {},
   "outputs": [],
   "source": [
    "# Convert timestamp to date\n",
    "d_fromtmstp = SF.udf(lambda x: dt.fromtimestamp(x/1000).date(), DateType())\n",
    "df = df.withColumn(\"hlp_date\", d_fromtmstp(SF.col('ts')))"
   ]
  },
  {
   "cell_type": "code",
   "execution_count": 14,
   "metadata": {},
   "outputs": [],
   "source": [
    "# Get MIN & MAX date for each user\n",
    "df = df.withColumn(\"hlp_date_max\", SF.max(\"hlp_date\").over(Window.partitionBy(\"userId\")))\n",
    "df = df.withColumn(\"hlp_date_min\", SF.min(\"hlp_date\").over(Window.partitionBy(\"userId\")))"
   ]
  },
  {
   "cell_type": "code",
   "execution_count": 15,
   "metadata": {},
   "outputs": [],
   "source": [
    "# Total days per user\n",
    "timeFmt = \"yyyy-MM-dd\"\n",
    "df = df.withColumn('fe_total_days', SF.datediff(SF.to_date('hlp_date_max', timeFmt), SF.to_date('hlp_date_min', timeFmt)))"
   ]
  },
  {
   "cell_type": "markdown",
   "metadata": {},
   "source": [
    "#### Check the mean of days customers are using the page   - people who cancelled vs others\n",
    " This is a tricky feature, as the numbers in first table may change by time. \n",
    " However the second table tells us which day could be critical and so this feature could help our model too ..."
   ]
  },
  {
   "cell_type": "code",
   "execution_count": 18,
   "metadata": {},
   "outputs": [
    {
     "name": "stdout",
     "output_type": "stream",
     "text": [
      "+-------+-----------------+\n",
      "|summary|    fe_total_days|\n",
      "+-------+-----------------+\n",
      "|  count|           233290|\n",
      "|   mean| 55.1186163144584|\n",
      "| stddev|8.205739140611385|\n",
      "|    min|                0|\n",
      "|    max|               61|\n",
      "+-------+-----------------+\n",
      "\n",
      "+-------+------------------+\n",
      "|summary|     fe_total_days|\n",
      "+-------+------------------+\n",
      "|  count|             44864|\n",
      "|   mean| 31.61329796718973|\n",
      "| stddev|14.225996568464927|\n",
      "|    min|                 0|\n",
      "|    max|                58|\n",
      "+-------+------------------+\n",
      "\n"
     ]
    }
   ],
   "source": [
    "df.filter(df.churn!=1).select(['fe_total_days']).describe().show()\n",
    "df.filter(df.churn==1).select(['fe_total_days']).describe().show()"
   ]
  },
  {
   "cell_type": "markdown",
   "metadata": {},
   "source": [
    "#### Increase / Decrease of songs played daily by user per quarters - can we use it as a feature?\n",
    "\n",
    "This is an experiment with a categorical feature which represents how number of played songs by user increases or decreases from quarter to quarter. \n",
    "Let's say we have 20 days of sessions for a user. These 20 days are divided into quarters and we calculate a mean of played songs for each quarter. Than Q1:5, Q2:10, Q3:7, Q4:3 is converted to a value IDD (increase, decrease, decrease). "
   ]
  },
  {
   "cell_type": "code",
   "execution_count": 16,
   "metadata": {},
   "outputs": [],
   "source": [
    "join_col = 'temp_join_key'\n",
    "df = df.withColumn(join_col, SF.concat(SF.col('userId'),SF.lit('_'), SF.col('hlp_date')))\n",
    "temp_df = df.groupby(join_col).agg(SF.count(SF.when(SF.col('page')=='NextSong', True)).alias('hlp_songs_daily'))\n",
    "\n",
    "df_churn = df.filter(df.churn==1)\n",
    "df_churn = df_churn.join(temp_df, 'temp_join_key', how='left')\n",
    "\n",
    "temp_df = df_churn.dropDuplicates(subset=['temp_join_key'])\\\n",
    ".withColumn('temp_inc_dec', SF.collect_list('hlp_songs_daily').over(Window.partitionBy('userId').orderBy('hlp_date')))\n",
    "temp_df = temp_df.orderBy(SF.desc('ts')).dropDuplicates(subset=['userId']).select(['userId', 'temp_inc_dec'])\n",
    "df_churn = df_churn.join(temp_df, 'userId', how='left')\n",
    "\n",
    "def increase_decrease(_list):\n",
    "    arrs = np.array_split(_list, 4)\n",
    "    quarters = [arrs[1].mean() - arrs[0].mean(), \n",
    "                arrs[2].mean() - arrs[1].mean(), \n",
    "                arrs[3].mean() - arrs[2].mean()]\n",
    "    def _repl(x):\n",
    "        if x < 0: return 'D'\n",
    "        else: return 'I'\n",
    "    return ''.join([_repl(x) for x in quarters])\n",
    "\n",
    "increase_decrease_udf = SF.udf(increase_decrease, StringType())\n",
    "df_churn = df_churn.withColumn(\"fe_songs_daily_inc_dec\", increase_decrease_udf(df_churn['temp_inc_dec']))"
   ]
  },
  {
   "cell_type": "code",
   "execution_count": 20,
   "metadata": {},
   "outputs": [
    {
     "data": {
      "text/plain": [
       "['DID', 'IDI', 'IID', 'III', 'DII', 'IDD', 'DDI']"
      ]
     },
     "execution_count": 20,
     "metadata": {},
     "output_type": "execute_result"
    }
   ],
   "source": [
    "df_churn.select('fe_songs_daily_inc_dec').distinct().rdd.map(lambda r: r[0]).collect()"
   ]
  },
  {
   "cell_type": "code",
   "execution_count": 21,
   "metadata": {},
   "outputs": [
    {
     "name": "stdout",
     "output_type": "stream",
     "text": [
      "+----------------------+-----+\n",
      "|fe_songs_daily_inc_dec|count|\n",
      "+----------------------+-----+\n",
      "|                   III|   12|\n",
      "|                   DII|   10|\n",
      "|                   IDI|    9|\n",
      "|                   IDD|    7|\n",
      "|                   IID|    6|\n",
      "|                   DID|    5|\n",
      "|                   DDI|    3|\n",
      "+----------------------+-----+\n",
      "\n"
     ]
    }
   ],
   "source": [
    "df_churn.dropDuplicates(subset=['userId']).groupBy(\"fe_songs_daily_inc_dec\").count().orderBy('count')\n",
    ".sort(SF.desc(\"count\")).show(10)"
   ]
  },
  {
   "cell_type": "markdown",
   "metadata": {},
   "source": [
    "Even though I expected to have more D's at the end of the triplets for churn customers, I will use this feature for modeling."
   ]
  },
  {
   "cell_type": "markdown",
   "metadata": {},
   "source": [
    "# Feature Engineering\n",
    "In following step I will create couple of basic features (total counts or averages) and couple of experimental features."
   ]
  },
  {
   "cell_type": "markdown",
   "metadata": {},
   "source": [
    "#### total sessions per user"
   ]
  },
  {
   "cell_type": "code",
   "execution_count": 17,
   "metadata": {},
   "outputs": [],
   "source": [
    "temp_df = df.groupby('userId').agg(SF.count('userId').alias('fe_sessions_total'))\n",
    "df = df.join(temp_df, 'userId', how='left')"
   ]
  },
  {
   "cell_type": "markdown",
   "metadata": {},
   "source": [
    "#### FE level switch count\n",
    "'fe_level_switch_count' feature tells us how many times user switched from PAID to FREE or vice versa"
   ]
  },
  {
   "cell_type": "code",
   "execution_count": 18,
   "metadata": {},
   "outputs": [],
   "source": [
    "df = df.withColumn(\"hlp_level\", SF.collect_set(\"level\").over(Window.partitionBy(\"userId\", \"hlp_date\").orderBy([\"ts\"])))\n",
    "\n",
    "udf_paid_count = SF.udf(lambda x: int(len(set(x))>1), IntegerType())\n",
    "df = df.withColumn('fe_hlp_level', udf_paid_count('hlp_level'))\n",
    "\n",
    "temp_df = df.select('userId', 'hlp_date', 'fe_hlp_level').filter(df.fe_hlp_level==1).groupby('userId', 'hlp_date').agg(SF.max('hlp_date'))\n",
    "temp_df = temp_df.drop(*['hlp_date', 'max(hlp_date)']).groupby('userId').agg(SF.count('userId').alias('fe_level_switch_count')).drop('fe_hlp_level')\n",
    "df = df.join(temp_df, 'userId', how='left')"
   ]
  },
  {
   "cell_type": "markdown",
   "metadata": {},
   "source": [
    "#### FE error & help count per user"
   ]
  },
  {
   "cell_type": "code",
   "execution_count": 19,
   "metadata": {},
   "outputs": [],
   "source": [
    "# Error\n",
    "temp_df = df.groupby('userId').agg(SF.count(SF.when(SF.col('page')=='Error', True)).alias('fe_error'))\n",
    "df = df.join(temp_df, 'userId', how='left')\n",
    "\n",
    "# Help\n",
    "temp_df = df.groupby('userId').agg(SF.count(SF.when(SF.col('page')=='Help', True)).alias('fe_help'))\n",
    "df = df.join(temp_df, 'userId', how='left')"
   ]
  },
  {
   "cell_type": "markdown",
   "metadata": {},
   "source": [
    "#### Avg Session length"
   ]
  },
  {
   "cell_type": "code",
   "execution_count": 20,
   "metadata": {},
   "outputs": [],
   "source": [
    "df = df.withColumn(\"fe_session_len\", SF.avg(\"length\").over(Window.partitionBy(\"userId\").orderBy([\"ts\"])))"
   ]
  },
  {
   "cell_type": "markdown",
   "metadata": {},
   "source": [
    "#### Songs played daily"
   ]
  },
  {
   "cell_type": "code",
   "execution_count": 21,
   "metadata": {},
   "outputs": [],
   "source": [
    "# df = df.withColumn(\"fe_songs_daily\", SF.count(\"length\").over(Window.partitionBy(\"userId\", \"hlp_date\").orderBy([\"ts\"])))\n",
    "# join_col = 'temp_join_key'\n",
    "# df = df.withColumn(join_col, SF.concat(SF.col('userId'),SF.lit('_'), SF.col('hlp_date')))\n",
    "# temp_df = df.groupby(join_col).agg(SF.count(SF.when(SF.col('page')=='NextSong', True)).alias('fe_songs_daily'))\n",
    "# df = df.join(temp_df, 'temp_join_key', how='left').drop(join_col)"
   ]
  },
  {
   "cell_type": "markdown",
   "metadata": {},
   "source": [
    "#### Total Songs played by user"
   ]
  },
  {
   "cell_type": "code",
   "execution_count": 22,
   "metadata": {},
   "outputs": [],
   "source": [
    "temp_df = df.groupby('userId').agg(SF.count(SF.when(SF.col('page')=='NextSong', True)).alias('fe_songs_total'))\n",
    "df = df.join(temp_df, 'userId', how='left')"
   ]
  },
  {
   "cell_type": "markdown",
   "metadata": {},
   "source": [
    "#### Total Songs / Total Days ratio"
   ]
  },
  {
   "cell_type": "code",
   "execution_count": 23,
   "metadata": {},
   "outputs": [],
   "source": [
    "df = df.withColumn('fe_days_songs_ratio', SF.col('fe_total_days')/SF.col('fe_songs_total'))"
   ]
  },
  {
   "cell_type": "markdown",
   "metadata": {},
   "source": [
    "#### Total sessions / Total days ratio"
   ]
  },
  {
   "cell_type": "code",
   "execution_count": 24,
   "metadata": {},
   "outputs": [],
   "source": [
    "df = df.withColumn('fe_sessions_total', SF.col('fe_total_days')/SF.col('fe_songs_total'))"
   ]
  },
  {
   "cell_type": "markdown",
   "metadata": {},
   "source": [
    "#### Location State\n",
    "Extracting state abbreviations from location details"
   ]
  },
  {
   "cell_type": "code",
   "execution_count": 25,
   "metadata": {},
   "outputs": [],
   "source": [
    "def extract_state(loc_col):\n",
    "    try:\n",
    "        return str(loc_col).split(',')[-1].strip()\n",
    "    except:\n",
    "        return ''\n",
    "udf_extract_state = SF.udf(extract_state, StringType())\n",
    "df = df.withColumn('fe_state', udf_extract_state('location'))"
   ]
  },
  {
   "cell_type": "markdown",
   "metadata": {},
   "source": [
    "#### Tunes played daily - increase/decrease by quarters\n",
    "\n",
    "Based on the experiment from the the research part I created a function which can be easily used not only for songs played increase/decrease but also for Error or Thumbs Down page:"
   ]
  },
  {
   "cell_type": "code",
   "execution_count": 26,
   "metadata": {},
   "outputs": [],
   "source": [
    "def page_inc_dec_quarterly_FE(df, page, new_feature_name):\n",
    "    \"\"\" Returns the quarter increase/decrease categories\n",
    "        for a selected page per user.\n",
    "    param: df, type: spark dataframe\n",
    "    param: page, type: string\n",
    "    param: new_feature_name, type: string\n",
    "    return: spark dataframe\n",
    "    \"\"\"\n",
    "    \n",
    "    # Count the daily usage of selected page per user (temp_page_daily)\n",
    "    join_col = 'temp_join_key'\n",
    "    df = df.withColumn(join_col, SF.concat(SF.col('userId'),SF.lit('_'), SF.col('hlp_date')))\n",
    "    temp_df = df.groupby(join_col).agg(SF.count(SF.when(SF.col('page')==page, True)).alias('temp_page_daily'))\n",
    "    df = df.join(temp_df, 'temp_join_key', how='left')\n",
    "    \n",
    "    # Collect the temp_page_daily numbers into lists\n",
    "    temp_df = df.dropDuplicates(subset=['temp_join_key'])\\\n",
    "    .withColumn('temp_inc_dec', SF.collect_list('temp_page_daily').over(Window.partitionBy('userId').orderBy('hlp_date')))\n",
    "    \n",
    "    # Get the major temp_page_daily list - the one from last day & join with df\n",
    "    temp_df = temp_df.orderBy(SF.desc('ts')).dropDuplicates(subset=['userId']).select(['userId', 'temp_inc_dec'])\n",
    "    df = df.join(temp_df, 'userId', how='left').drop('temp_page_daily')\n",
    "    \n",
    "    def increase_decrease(_list):\n",
    "        \"\"\"Splits the list into 4 ongoing parts, \n",
    "            calculates the mean and identifies\n",
    "            increase or decrease between these quarters.\n",
    "            Returns values like DDI, DID, III, etc ...\"\"\"\n",
    "        arrs = np.array_split(_list, 4)\n",
    "        quarters = [arrs[1].mean() - arrs[0].mean(), \n",
    "                    arrs[2].mean() - arrs[1].mean(), \n",
    "                    arrs[3].mean() - arrs[2].mean()]\n",
    "        def _repl(x):\n",
    "            if x < 0: return 'D'\n",
    "            else: return 'I'\n",
    "        return ''.join([_repl(x) for x in quarters])\n",
    "    \n",
    "    # Turn the lists of numbers into the Increase/Decrease categories\n",
    "    increase_decrease_udf = SF.udf(increase_decrease, StringType())\n",
    "    return df.withColumn(new_feature_name, increase_decrease_udf(df['temp_inc_dec'])).drop('temp_inc_dec')\n",
    "\n",
    "df = page_inc_dec_quarterly_FE(df, 'NextSong', 'fe_songs_daily_inc_dec')"
   ]
  },
  {
   "cell_type": "markdown",
   "metadata": {},
   "source": [
    "#### Errors daily - increase/decrease by quarters"
   ]
  },
  {
   "cell_type": "code",
   "execution_count": 27,
   "metadata": {},
   "outputs": [],
   "source": [
    "df = page_inc_dec_quarterly_FE(df, 'Error', 'fe_error_daily_inc_dec')"
   ]
  },
  {
   "cell_type": "markdown",
   "metadata": {},
   "source": [
    "#### Thumbs Down daily - increase/decrease by quarters"
   ]
  },
  {
   "cell_type": "code",
   "execution_count": 28,
   "metadata": {},
   "outputs": [],
   "source": [
    "df = page_inc_dec_quarterly_FE(df, 'Thumbs Down', 'fe_Thumbs_Down_daily_inc_dec')"
   ]
  },
  {
   "cell_type": "markdown",
   "metadata": {},
   "source": [
    "#### Number of downgrades per user"
   ]
  },
  {
   "cell_type": "code",
   "execution_count": 29,
   "metadata": {},
   "outputs": [],
   "source": [
    "temp_df = df.groupby('userId').agg(SF.count(SF.when(SF.col('page')=='Submit Downgrade', True))\n",
    "                                   .alias('fe_downgrades_total'))\n",
    "df = df.join(temp_df, 'userId', how='left')"
   ]
  },
  {
   "cell_type": "markdown",
   "metadata": {},
   "source": [
    "#### Add fe_ prefix to existing features (level, gender, status)"
   ]
  },
  {
   "cell_type": "code",
   "execution_count": 30,
   "metadata": {},
   "outputs": [],
   "source": [
    "as_is_features = ['level', 'gender', 'status']\n",
    "for col in as_is_features:\n",
    "    df = df.withColumnRenamed(col, 'fe_{}'.format(col))"
   ]
  },
  {
   "cell_type": "code",
   "execution_count": 31,
   "metadata": {},
   "outputs": [],
   "source": [
    "# Lets finalize the lazy function runs  - before we start the complicated part of feature engineering\n",
    "df.cache()"
   ]
  },
  {
   "cell_type": "markdown",
   "metadata": {},
   "source": [
    "#### FE userAgent\n",
    "In this part we tokenize the userAgent words, reduce them to not get perfectly correlated features and create a new feature/column which holds the information about the total usage of each word  per user.\n",
    "Each word represents a system, version or even a hardware used by customer and it can become a good feature when it comes to predict churn."
   ]
  },
  {
   "cell_type": "code",
   "execution_count": 6,
   "metadata": {},
   "outputs": [],
   "source": [
    "def regex_tokenize(df):\n",
    "    \"\"\" Creates new field containing the list of words\n",
    "        returned by RegexTokenizer from 'userAgent' column.\n",
    "    param: df, type: spark dataframe\n",
    "    return: spark dataframe\n",
    "    \"\"\"\n",
    "    df = df.withColumn('userAgent_reg', SF.lower(SF.regexp_replace('userAgent', \"[^0-9a-zA-Z\\\\s]\", \"\")))\n",
    "    regexTokenizer = RegexTokenizer(inputCol=\"userAgent_reg\", outputCol=\"userAgent_words\")\n",
    "    return regexTokenizer.transform(df)\n",
    "\n",
    "def intersect(_lists):\n",
    "    \"\"\"Returns intersection of multiple lists.\n",
    "    param: list of lists\n",
    "    \"\"\"\n",
    "    intrs = list(set(words_list[0]).intersection(set(words_list[1])))\n",
    "    for x in range(2,len(_lists)):\n",
    "        intrs = list(set(intrs).intersection(set(words_list[x])))\n",
    "        if not intrs: break\n",
    "    return intrs\n",
    "\n",
    "def remove_perf_corr_columns(words_list):\n",
    "    \"\"\"Removes words from the Tokenizer output lists\n",
    "       to get rid of perfectly correlated couples.\n",
    "    param: list of lists\n",
    "    return: list of lists\n",
    "    \"\"\"\n",
    "    v = DictVectorizer()\n",
    "    while True:\n",
    "        X = v.fit_transform(Counter(f) for f in (_l for _l in words_list))\n",
    "        words_df = pandas.DataFrame(X.toarray())\n",
    "        words_df.columns = words_df.columns.map(dict([(value, key) for key, value in v.vocabulary_.items()]))\n",
    "\n",
    "        df_corr = words_df.corr().stack().reset_index()\n",
    "        df_corr.columns = ['FEATURE_1', 'FEATURE_2', 'CORRELATION']\n",
    "        df_corr = df_corr[((df_corr.CORRELATION==1)) & (df_corr.FEATURE_1!=df_corr.FEATURE_2)]\n",
    "        if df_corr.shape[0] > 0:\n",
    "            def select_feature(df):\n",
    "                return str(sorted([df['FEATURE_1'], df['FEATURE_2']]))\n",
    "\n",
    "            df_corr['Feature_X'] = df_corr.apply(select_feature, axis=1)\n",
    "            df_corr.drop_duplicates(subset='Feature_X', inplace=True)\n",
    "            remove_cols = df_corr.FEATURE_1.tolist()\n",
    "            new_words_list = []\n",
    "            for l in words_list:\n",
    "                l = [item for item in l if item not in remove_cols]\n",
    "                new_words_list.append(l)\n",
    "            words_list = new_words_list\n",
    "        else:\n",
    "            break\n",
    "    return words_list\n",
    "\n",
    "def merge_lists(_lists):\n",
    "    \"\"\"Merges multiple lists together.\n",
    "    param: list of lists\n",
    "    return: list\n",
    "    \"\"\"\n",
    "    result = _lists[0]\n",
    "    for x in range(1, len(_lists)):\n",
    "        result.extend(_lists[x])\n",
    "    return list(set(result))\n",
    "\n",
    "\n",
    "# df = regex_tokenize(df) - already done in exploration part\n",
    "words_list = df.select('userAgent_words').distinct().rdd.map(lambda r: r[0]).collect()\n",
    "words_to_remove = intersect(words_list)\n",
    "all_words = merge_lists(words_list)\n",
    "all_words = [item for item in all_words if item not in words_to_remove]"
   ]
  },
  {
   "cell_type": "code",
   "execution_count": 7,
   "metadata": {},
   "outputs": [],
   "source": [
    "# Finally: Create the columns with summarized usage of certain words\n",
    "i = 1\n",
    "for col_name in all_words:\n",
    "    i += 1\n",
    "    udf_contains = SF.udf(lambda x: int(col_name in x), IntegerType())\n",
    "    temp_col = 'temp_ua_{}'.format(col_name) \n",
    "    df = df.withColumn(temp_col, udf_contains(df.userAgent_words))\n",
    "    df = df.withColumn('fe_ua_{}'.format(col_name), SF.sum(temp_col).over(Window.partitionBy('userId')))\n",
    "    if (i % 3) == 0: df.cache()"
   ]
  },
  {
   "cell_type": "markdown",
   "metadata": {},
   "source": [
    "#### Save / Load preprocessed dataframe for more efficiency "
   ]
  },
  {
   "cell_type": "code",
   "execution_count": 4,
   "metadata": {},
   "outputs": [],
   "source": [
    "# df.write.parquet(os.path.join('{}/'.format(os.path.abspath(os.getcwd())), 'etl_df_output'))\n",
    "\n",
    "df = spark.read.parquet(os.path.join('{}/etl_df_output'.format(os.path.abspath(os.getcwd()))))"
   ]
  },
  {
   "cell_type": "markdown",
   "metadata": {},
   "source": [
    "# Modeling\n",
    "Let's start with the final preprocessing of our dataframe. For this purpose I have combined all the necessary steps into one function.\n",
    "For modelling we need a dataframe containing 1 row per user. Extracting these rows in the first step of the function will save us a lot of time as every other operation will be applied to reduced dataframe. In the next steps, except for fillna, we extract the bunch of features we plan to use, create the \"label\" column out of \"churn\", we convert categorical features to numerical (this is what pyspark.ml classifiers like RandomForest or GradientBoostedTrees are expecting) and finally we split the data into 3 parts: Train, Test & Validation."
   ]
  },
  {
   "cell_type": "code",
   "execution_count": 8,
   "metadata": {},
   "outputs": [],
   "source": [
    "def get_cols_containing_null(df):\n",
    "    \"\"\"Returns a list of columns containing null values & Na's\n",
    "    param: df, type: spark dataframe\n",
    "    return: python list\n",
    "    \"\"\"\n",
    "    check = df.select(*[col for col in df.columns if col.startswith('fe_')])\n",
    "    check = check.select([SF.count(SF.when(SF.isnan(c) | SF.isnull(c), c)).alias(c) \n",
    "                          for (c,c_type) in check.dtypes if c_type not in ('timestamp', 'string', 'date', ' array')])\\\n",
    "    .toPandas().rename(index={0: '_count'}).T.reset_index()\n",
    "    return check[check._count>0]['index'].values.tolist()\n",
    "\n",
    "def preprocess_and_split(df, split_ratio=[0.6, 0.4]):\n",
    "    \"\"\" - Keeps 1 row per user\n",
    "        - fills na's & nulls\n",
    "        - selects appropriate features\n",
    "        - Converts categorical to numerical columns\n",
    "        - splits the dataframe by provided ratio\n",
    "    param: df, type: spark dataframe\n",
    "    param: split_ration, type: list (optional)\n",
    "    return: train, test and validation df (spark dataframes)\n",
    "    \"\"\"\n",
    "    # select 1 row per user\n",
    "    window = Window.partitionBy('userId').orderBy(SF.col('ts').desc())\n",
    "    dff = df.withColumn('row',SF.row_number().over(window)).where(SF.col('row')==2).drop('row')\n",
    "    \n",
    "    # Fillna\n",
    "    na_subset = get_cols_containing_null(dff)\n",
    "    dff = dff.fillna(0, subset=na_subset)\n",
    "    \n",
    "    # select only features & label fields\n",
    "    features = [col for col in df.columns if col.startswith('fe_')]\n",
    "    dff = dff.select(*features + ['churn'])\n",
    "    dff = dff.withColumn('label', df['churn'].cast(DoubleType()))\n",
    "    dff = dff.drop('churn')\n",
    "    \n",
    "    # Convert categorical columns to numerical\n",
    "    str_cols = [f.name for f in dff.schema.fields if isinstance(f.dataType, StringType)]\n",
    "    for col in str_cols:\n",
    "        dff = dff.withColumnRenamed(col, '{}_temp'.format(col))\n",
    "        stringIndexer = StringIndexer(inputCol='{}_temp'.format(col), outputCol=col)\n",
    "        si_model = stringIndexer.fit(dff)\n",
    "        dff = si_model.transform(dff).drop('{}_temp'.format(col))\n",
    "    \n",
    "    train_df, test_val = dff.randomSplit(split_ratio, seed=42)\n",
    "    test_val.cache()\n",
    "    test_df, val_df = test_val.randomSplit(split_ratio)\n",
    "    return train_df, test_df, val_df"
   ]
  },
  {
   "cell_type": "code",
   "execution_count": 9,
   "metadata": {},
   "outputs": [
    {
     "name": "stdout",
     "output_type": "stream",
     "text": [
      "Train: 134/28\n",
      "Test: 54/12\n",
      "Validation: 37/12\n"
     ]
    }
   ],
   "source": [
    "# Check if we have an appropriate sample of \"churn\" occasions in each of the datasets.\n",
    "\n",
    "train_df, test_df, val_df = preprocess_and_split(df)\n",
    "print('Train: {}/{}'.format(train_df.count(), train_df.filter(train_df.label==1).count()))\n",
    "print('Test: {}/{}'.format(test_df.count(), test_df.filter(test_df.label==1).count()))\n",
    "print('Validation: {}/{}'.format(val_df.count(), val_df.filter(val_df.label==1).count()))"
   ]
  },
  {
   "cell_type": "markdown",
   "metadata": {},
   "source": [
    "Finally we can start with the training!\n",
    "Here is the sequence of our steps:\n",
    "    - Create a dictionary with classifiers as the keys and appropriate paramGrids as values\n",
    "    - Prepare Vectorizer and Scaler for the pipeline \n",
    "      (I decided to use RandomForest and GradientBoostedTrees and therefore Scaling is not necessary,\n",
    "       however we can keep it in the pipeline in case we decide to add LinearRegression too.\n",
    "       Scaling will not do any damage to the results anyway.)\n",
    "    - Next we loop over the classifiers and get the best one of each grid by using F1 score metric\n",
    "      of the MulticlassClassificationEvaluator. \n",
    "    - We save the results and models to a dictionary.\n",
    "    - In the last step we select the best of the best models by comparing the results of each iteration.\n",
    "    "
   ]
  },
  {
   "cell_type": "markdown",
   "metadata": {},
   "source": [
    "Why did we use the F1 score as the key metric? \n",
    "As we are using a small dataset, we need to use a bit more demanding metric than precision or recall. F-score is calculated from the precision and recall of testing.\n",
    "Precision is the number of correctly identified positive results divided by the number of all positive results, including those not identified correctly, and the recall is the number of correctly identified positive results divided by the number of all samples that should have been identified as positive. \n",
    "Our goal is to predict true positives as accurate as possible while false positive predictions could lead to wasted resources. Therefore the F1 score became our metric."
   ]
  },
  {
   "cell_type": "code",
   "execution_count": 10,
   "metadata": {},
   "outputs": [
    {
     "name": "stdout",
     "output_type": "stream",
     "text": [
      "CrossValidatorModel_fa7a9fc7b80b: 0.8740740740740741\n",
      "CrossValidatorModel_f9aad3c38b3c: 0.9452208835341365\n"
     ]
    }
   ],
   "source": [
    "# paramGrid_gb = ParamGridBuilder()\\\n",
    "#                .addGrid(gb_clf.maxDepth, [7, 15])\\\n",
    "#                .addGrid(gb_clf.maxBins, [20, 40])\\\n",
    "#                .addGrid(gb_clf.maxIter, [10, 20]).build()\n",
    "\n",
    "# Create a dictionary of classifiers & thir paramGrids\n",
    "eval_dict = {}\n",
    "rf_clf = RandomForestClassifier()\n",
    "gb_clf = GBTClassifier()\n",
    "\n",
    "paramGrid_rf = ParamGridBuilder() \\\n",
    "                .addGrid(rf_clf.numTrees, [15]) \\\n",
    "                .addGrid(rf_clf.maxDepth, [7, 15]) \\\n",
    "                .build()\n",
    "\n",
    "paramGrid_gb = ParamGridBuilder()\\\n",
    "               .addGrid(gb_clf.maxDepth, [7, 12])\\\n",
    "               .addGrid(gb_clf.maxBins, [20])\\\n",
    "               .addGrid(gb_clf.maxIter, [6]).build()\n",
    "\n",
    "classifiers = {rf_clf: paramGrid_rf, gb_clf: paramGrid_gb}\n",
    "\n",
    "# Prepare vectorizer & scaler for the pipeline\n",
    "features = [col for col in train_df.columns if col.startswith('fe_')]\n",
    "assembler = VectorAssembler(inputCols=features, outputCol='features_vect')\n",
    "minmaxscaler = MinMaxScaler(inputCol=\"features_vect\", outputCol=\"features\")\n",
    "\n",
    "# Run the CrossValidator for each classifier and its paramGrid\n",
    "for clf, paramGrid in classifiers.items():\n",
    "    pipeline =Pipeline(stages=[assembler, minmaxscaler, clf])\n",
    "\n",
    "    evaluator=MulticlassClassificationEvaluator(metricName=\"f1\")\n",
    "\n",
    "    cross_val = CrossValidator(estimator=pipeline,\n",
    "                              estimatorParamMaps=paramGrid,\n",
    "                              evaluator=evaluator,\n",
    "                              numFolds=3)\n",
    "    \n",
    "    # Evaluate the model and get the F1 score\n",
    "    model = cross_val.fit(train_df) \n",
    "    eval_result = evaluator.evaluate(model.transform(test_df))\n",
    "    \n",
    "    # Create a dictionary of models and F1 scores\n",
    "    eval_dict[model] = eval_result\n",
    "    print('{}: {}'.format(str(model), eval_result))\n",
    "\n",
    "# Select the model with highest evaluation score\n",
    "best_model = max(eval_dict, key=eval_dict.get)"
   ]
  },
  {
   "cell_type": "markdown",
   "metadata": {},
   "source": [
    "We achieved F1 training score of 0.95 with GradientBoostedTrees.\n",
    "Let's have a look at the parameters and testing score of the best model:"
   ]
  },
  {
   "cell_type": "code",
   "execution_count": 34,
   "metadata": {},
   "outputs": [
    {
     "name": "stdout",
     "output_type": "stream",
     "text": [
      "Test F1 Score: 0.9\n"
     ]
    },
    {
     "data": {
      "text/plain": [
       "\"{Param(parent='GBTClassifier_e498177ccbb8', name='maxDepth', doc='Maximum depth of the tree. (>= 0) E.g., depth 0 means 1 leaf node; depth 1 means 1 internal node + 2 leaf nodes.'): 7, Param(parent='GBTClassifier_e498177ccbb8', name='maxBins', doc='Max number of bins for discretizing continuous features.  Must be >=2 and >= number of categories for any categorical feature.'): 20, Param(parent='GBTClassifier_e498177ccbb8', name='maxIter', doc='max number of iterations (>= 0).'): 6}\""
      ]
     },
     "execution_count": 34,
     "metadata": {},
     "output_type": "execute_result"
    }
   ],
   "source": [
    "param_dict = {}\n",
    "for m, p in zip(best_model.avgMetrics, best_model.getEstimatorParamMaps()):\n",
    "    param_dict[str(p)] = m\n",
    "print('Test F1 Score: {}'.format(round(max(best_model.avgMetrics), 2)))\n",
    "max(param_dict, key=param_dict.get)"
   ]
  },
  {
   "cell_type": "code",
   "execution_count": 45,
   "metadata": {},
   "outputs": [],
   "source": [
    "# model_path = '{}/best_model/'.format(os.path.abspath(os.getcwd()))\n",
    "# best_model.save(model_path)"
   ]
  },
  {
   "cell_type": "markdown",
   "metadata": {},
   "source": [
    "We can now validate our best model on the validation dataset.\n",
    "I've added couple of more details/metrics to get a better picture of how good our model really is."
   ]
  },
  {
   "cell_type": "code",
   "execution_count": 25,
   "metadata": {},
   "outputs": [
    {
     "name": "stdout",
     "output_type": "stream",
     "text": [
      "Total correct predictions: 32 / 37\n",
      "Churn correct predictions: 7 / 12\n",
      "Churn incorrect predictions: 0\n",
      "Precision: 0.86\n",
      "Recall: 0.86\n",
      "F1-Score: 0.86\n",
      "Accuracy: 0.86\n"
     ]
    }
   ],
   "source": [
    "pred_df = best_model.transform(val_df)\n",
    "\n",
    "print('Total correct predictions: {} / 37'.format(pred_df.filter(pred_df.label == pred_df.prediction).count()))\n",
    "print('Churn correct predictions: {} / 12'.format(pred_df.filter((pred_df.label == pred_df.prediction) & \n",
    "                                                                 (pred_df.label == 1)).count()))\n",
    "print('Churn incorrect predictions: {}'.format(pred_df.filter((pred_df.label == 0) & \n",
    "                                                              (pred_df.prediction == 1)).count()))\n",
    "\n",
    "# convert dataframe to rdd to be able to use MulticlassMetrics\n",
    "prd_rdd = pred_df.select(['label', 'prediction']).rdd\n",
    "mc_metrics = MulticlassMetrics(prd_rdd)\n",
    "\n",
    "print('Precision: {}'.format(round(mc_metrics.precision(), 2)))\n",
    "print('Recall: {}'.format(round(mc_metrics.recall(), 2)))\n",
    "print('F1-Score: {}'.format(round(mc_metrics.fMeasure(), 2)))\n",
    "print('Accuracy: {}'.format(round(mc_metrics.accuracy, 2)))"
   ]
  },
  {
   "cell_type": "markdown",
   "metadata": {},
   "source": [
    "### We achieved quite a good score! "
   ]
  },
  {
   "cell_type": "code",
   "execution_count": null,
   "metadata": {},
   "outputs": [],
   "source": []
  }
 ],
 "metadata": {
  "kernelspec": {
   "display_name": "Python 3",
   "language": "python",
   "name": "python3"
  },
  "language_info": {
   "codemirror_mode": {
    "name": "ipython",
    "version": 3
   },
   "file_extension": ".py",
   "mimetype": "text/x-python",
   "name": "python",
   "nbconvert_exporter": "python",
   "pygments_lexer": "ipython3",
   "version": "3.6.3"
  }
 },
 "nbformat": 4,
 "nbformat_minor": 2
}
